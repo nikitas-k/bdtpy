{
 "cells": [
  {
   "cell_type": "code",
   "execution_count": 1,
   "metadata": {},
   "outputs": [],
   "source": [
    "from ipywidgets import VBox, FloatSlider, HBox, Button, Output\n",
    "from IPython.display import display\n",
    "\n",
    "def run_model(model_class, param_ranges):\n",
    "    sliders = {}\n",
    "    for param, (min_val, max_val, step, default) in param_ranges.items():\n",
    "        sliders[param] = FloatSlider(min=min_val, max=max_val, step=step, value=default, description=param)\n",
    "    \n",
    "    output = Output()\n",
    "\n",
    "    def update(**params):\n",
    "        with output:\n",
    "            output.clear_output(wait=True)\n",
    "            model = model_class(**params)\n",
    "            model.plot_timeseries()\n",
    "            if hasattr(model, 'plot_phase_portrait'):\n",
    "                model.plot_phase_portrait()\n",
    "    \n",
    "    button = Button(description='Run')\n",
    "    button.on_click(lambda x: update(**{k: slider.value for k, slider in sliders.items()}))\n",
    "    \n",
    "    ui = VBox([HBox([button]), VBox(list(sliders.values()))])\n",
    "\n",
    "    display(ui, output)\n",
    "    \n",
    "    \n"
   ]
  },
  {
   "cell_type": "code",
   "execution_count": 2,
   "metadata": {},
   "outputs": [
    {
     "data": {
      "application/vnd.jupyter.widget-view+json": {
       "model_id": "2a5f860e6fd541b6b2f9ae02890a2940",
       "version_major": 2,
       "version_minor": 0
      },
      "text/plain": [
       "VBox(children=(HBox(children=(Button(description='Run', style=ButtonStyle()),)), VBox(children=(FloatSlider(va…"
      ]
     },
     "metadata": {},
     "output_type": "display_data"
    },
    {
     "data": {
      "application/vnd.jupyter.widget-view+json": {
       "model_id": "f524dd108cd5451d80dd207ef72cfc2a",
       "version_major": 2,
       "version_minor": 0
      },
      "text/plain": [
       "Output()"
      ]
     },
     "metadata": {},
     "output_type": "display_data"
    }
   ],
   "source": [
    "from bdtpy.sde import Oscillator1D\n",
    "param_ranges = {\n",
    "    'epsilon': (0, 1, 0.01, 0.6),\n",
    "    'sigma': (0, 0.5, 0.001, 0.03)\n",
    "}\n",
    "run_model(Oscillator1D, param_ranges)"
   ]
  },
  {
   "cell_type": "code",
   "execution_count": 2,
   "metadata": {},
   "outputs": [
    {
     "data": {
      "application/vnd.jupyter.widget-view+json": {
       "model_id": "9c9b9dea14b94d57af7fb16e98ed3fa6",
       "version_major": 2,
       "version_minor": 0
      },
      "text/plain": [
       "VBox(children=(HBox(children=(Button(description='Run', style=ButtonStyle()),)), VBox(children=(FloatSlider(va…"
      ]
     },
     "metadata": {},
     "output_type": "display_data"
    },
    {
     "data": {
      "application/vnd.jupyter.widget-view+json": {
       "model_id": "8c1d5d0eec6743a28670b7ba93029738",
       "version_major": 2,
       "version_minor": 0
      },
      "text/plain": [
       "Output()"
      ]
     },
     "metadata": {},
     "output_type": "display_data"
    }
   ],
   "source": [
    "from bdtpy.sde import Oscillator2D\n",
    "param_ranges = {\n",
    "    'lam': (-10, 10, 0.01, -10),\n",
    "    'omega': (0, 50, 0.01, 3.14),\n",
    "    'sigma1': (0, 1.0, 0.001, 0.01),\n",
    "    'sigma2': (0, 1.0, 0.001, 0.01)\n",
    "}\n",
    "run_model(Oscillator2D, param_ranges)"
   ]
  },
  {
   "cell_type": "code",
   "execution_count": 3,
   "metadata": {},
   "outputs": [
    {
     "data": {
      "application/vnd.jupyter.widget-view+json": {
       "model_id": "753593e2151d4e25a4a702af5b64c83a",
       "version_major": 2,
       "version_minor": 0
      },
      "text/plain": [
       "VBox(children=(HBox(children=(Button(description='Run', style=ButtonStyle()),)), VBox(children=(FloatSlider(va…"
      ]
     },
     "metadata": {},
     "output_type": "display_data"
    },
    {
     "data": {
      "application/vnd.jupyter.widget-view+json": {
       "model_id": "ba477c26d9884696bef36ffd8a7fdf44",
       "version_major": 2,
       "version_minor": 0
      },
      "text/plain": [
       "Output()"
      ]
     },
     "metadata": {},
     "output_type": "display_data"
    }
   ],
   "source": [
    "from bdtpy.sde import OrnsteinUhlenbeck\n",
    "# Example usage\n",
    "param_ranges = {\n",
    "    'theta': (0, 1, 0.01, 0.7),\n",
    "    'mu': (0, 1, 0.01, 1.0),\n",
    "    'sigma': (0, 1, 0.01, 0.3)\n",
    "}\n",
    "run_model(OrnsteinUhlenbeck, param_ranges)"
   ]
  },
  {
   "cell_type": "code",
   "execution_count": 3,
   "metadata": {},
   "outputs": [
    {
     "data": {
      "application/vnd.jupyter.widget-view+json": {
       "model_id": "7a1e689a430946c6918e7c0a2cffd652",
       "version_major": 2,
       "version_minor": 0
      },
      "text/plain": [
       "VBox(children=(HBox(children=(Button(description='Run', style=ButtonStyle()),)), VBox(children=(FloatSlider(va…"
      ]
     },
     "metadata": {},
     "output_type": "display_data"
    },
    {
     "data": {
      "application/vnd.jupyter.widget-view+json": {
       "model_id": "647700fe6ec840c0984f508fae21f57c",
       "version_major": 2,
       "version_minor": 0
      },
      "text/plain": [
       "Output()"
      ]
     },
     "metadata": {},
     "output_type": "display_data"
    }
   ],
   "source": [
    "# now let's try the Ito SDE from Kloeden Platen 1999\n",
    "from bdtpy.sde import KloedenPlaten\n",
    "param_ranges = {\n",
    "    'a': (0, 2, 0.01, 1.0),\n",
    "    'b': (0, 1, 0.01, 0.9),\n",
    "    'y0': (-0.99, 0.99, 0.01, 0.1)\n",
    "}\n",
    "\n",
    "run_model(KloedenPlaten, param_ranges)"
   ]
  },
  {
   "cell_type": "code",
   "execution_count": 2,
   "metadata": {},
   "outputs": [
    {
     "data": {
      "application/vnd.jupyter.widget-view+json": {
       "model_id": "cfda9a7f368940dc9f4f1b29509d451d",
       "version_major": 2,
       "version_minor": 0
      },
      "text/plain": [
       "VBox(children=(HBox(children=(Button(description='Run', style=ButtonStyle()),)), VBox(children=(FloatSlider(va…"
      ]
     },
     "metadata": {},
     "output_type": "display_data"
    },
    {
     "data": {
      "application/vnd.jupyter.widget-view+json": {
       "model_id": "ef2032f32c2d43ba889178a995c82bfb",
       "version_major": 2,
       "version_minor": 0
      },
      "text/plain": [
       "Output()"
      ]
     },
     "metadata": {},
     "output_type": "display_data"
    }
   ],
   "source": [
    "from bdtpy.sde import GeometricBrownianMotion\n",
    "param_ranges = {\n",
    "    'mu': (0, 1, 0.01, 0.5),\n",
    "    'sigma': (0, 1, 0.01, 1.0),\n",
    "    'Y0': (0.1, 10, 0.1, 0.0)\n",
    "}\n",
    "\n",
    "run_model(GeometricBrownianMotion, param_ranges)"
   ]
  },
  {
   "cell_type": "code",
   "execution_count": null,
   "metadata": {},
   "outputs": [],
   "source": []
  }
 ],
 "metadata": {
  "kernelspec": {
   "display_name": "math",
   "language": "python",
   "name": "python3"
  },
  "language_info": {
   "codemirror_mode": {
    "name": "ipython",
    "version": 3
   },
   "file_extension": ".py",
   "mimetype": "text/x-python",
   "name": "python",
   "nbconvert_exporter": "python",
   "pygments_lexer": "ipython3",
   "version": "3.10.14"
  }
 },
 "nbformat": 4,
 "nbformat_minor": 2
}
