{
 "cells": [
  {
   "cell_type": "code",
   "execution_count": 1,
   "metadata": {},
   "outputs": [],
   "source": [
    "from ipywidgets import VBox, FloatSlider, HBox, Button, Output\n",
    "from IPython.display import display\n",
    "from bdtpy.utils import display_eq\n",
    "\n",
    "def run_model(model_class, param_ranges):\n",
    "    sliders = {}\n",
    "    for param, (min_val, max_val, step, default) in param_ranges.items():\n",
    "        sliders[param] = FloatSlider(min=min_val, max=max_val, step=step, value=default, description=param)\n",
    "    \n",
    "    output = Output()\n",
    "\n",
    "    def update(**params):\n",
    "        with output:\n",
    "            output.clear_output(wait=True)\n",
    "            model = model_class(**params)\n",
    "            model.plot_timeseries()\n",
    "            if hasattr(model, 'plot_phase_portrait'):\n",
    "                model.plot_phase_portrait()\n",
    "    \n",
    "    button = Button(description='Run')\n",
    "    button.on_click(lambda x: update(**{k: slider.value for k, slider in sliders.items()}))\n",
    "    \n",
    "    ui = VBox([HBox([button]), VBox(list(sliders.values()))])\n",
    "\n",
    "    display_eq(model_class)\n",
    "    display(ui, output)\n",
    "    \n",
    "    \n"
   ]
  },
  {
   "cell_type": "code",
   "execution_count": 2,
   "metadata": {},
   "outputs": [
    {
     "data": {
      "text/markdown": [
       "## `Oscillator1D`\n",
       "\n",
       "\n",
       "\n",
       "    1D Nonlinear oscillator of the form\n",
       "\n",
       "        dy = 1 + epsilon*cos(y) + sigma*dW\n",
       "\n",
       "    where\n",
       "        y(t) is the dynamic variable\n",
       "        epsilon is the damping term\n",
       "        sigma > 0 is the volatility of the noise\n",
       "    \n",
       "    "
      ],
      "text/plain": [
       "<IPython.core.display.Markdown object>"
      ]
     },
     "metadata": {},
     "output_type": "display_data"
    },
    {
     "data": {
      "application/vnd.jupyter.widget-view+json": {
       "model_id": "8042f4e1f5464b008d51653ab5570c75",
       "version_major": 2,
       "version_minor": 0
      },
      "text/plain": [
       "VBox(children=(HBox(children=(Button(description='Run', style=ButtonStyle()),)), VBox(children=(FloatSlider(va…"
      ]
     },
     "metadata": {},
     "output_type": "display_data"
    },
    {
     "data": {
      "application/vnd.jupyter.widget-view+json": {
       "model_id": "9492085ee0dc4d57a593335b6529da87",
       "version_major": 2,
       "version_minor": 0
      },
      "text/plain": [
       "Output()"
      ]
     },
     "metadata": {},
     "output_type": "display_data"
    }
   ],
   "source": [
    "from bdtpy.sde import Oscillator1D\n",
    "param_ranges = {\n",
    "    'epsilon': (0, 1, 0.01, 0.6),\n",
    "    'sigma': (0, 0.5, 0.001, 0.03)\n",
    "}\n",
    "run_model(Oscillator1D, param_ranges)"
   ]
  },
  {
   "cell_type": "code",
   "execution_count": 3,
   "metadata": {},
   "outputs": [
    {
     "data": {
      "text/markdown": [
       "## `Oscillator2D`\n",
       "\n",
       "\n",
       "    \n",
       "    Generate solutions to two coupled nonlinear oscillators \n",
       "    with independent noise terms of the form\n",
       "\n",
       "        dy_1 = lambda*y_1 - omega*y_2 + sigma_1*dW_1\n",
       "        dy_2 = lambda*y_2 + omega*y_1 + sigma_2*dW_2\n",
       "\n",
       "    where\n",
       "        lambda is the bias\n",
       "        omega is the coupling constant\n",
       "        sigma > 0 is the volatility of the noise\n",
       "    \n",
       "    "
      ],
      "text/plain": [
       "<IPython.core.display.Markdown object>"
      ]
     },
     "metadata": {},
     "output_type": "display_data"
    },
    {
     "data": {
      "application/vnd.jupyter.widget-view+json": {
       "model_id": "964d84e874f2418994005b5d53d92b24",
       "version_major": 2,
       "version_minor": 0
      },
      "text/plain": [
       "VBox(children=(HBox(children=(Button(description='Run', style=ButtonStyle()),)), VBox(children=(FloatSlider(va…"
      ]
     },
     "metadata": {},
     "output_type": "display_data"
    },
    {
     "data": {
      "application/vnd.jupyter.widget-view+json": {
       "model_id": "b76d3b91e4e54599b5bf129b37a90514",
       "version_major": 2,
       "version_minor": 0
      },
      "text/plain": [
       "Output()"
      ]
     },
     "metadata": {},
     "output_type": "display_data"
    }
   ],
   "source": [
    "from bdtpy.sde import Oscillator2D\n",
    "param_ranges = {\n",
    "    'lam': (-10, 10, 0.01, -10),\n",
    "    'omega': (0, 50, 0.01, 3.14),\n",
    "    'sigma1': (0, 1.0, 0.001, 0.01),\n",
    "    'sigma2': (0, 1.0, 0.001, 0.01)\n",
    "}\n",
    "run_model(Oscillator2D, param_ranges)"
   ]
  },
  {
   "cell_type": "code",
   "execution_count": 4,
   "metadata": {},
   "outputs": [
    {
     "data": {
      "text/markdown": [
       "## `OrnsteinUhlenbeck`\n",
       "\n",
       " \n",
       "    Generate solutions to a system of n independent \n",
       "    Ornstein-Uhlenbeck processes\n",
       "\n",
       "    dY_i = theta(mu - Y_i)dt + sigma*dW_i\n",
       "\n",
       "    where\n",
       "    Y_i(t) are the n state variables\n",
       "    mu dictates the long-term mean of Y_i(t)\n",
       "    theta > 0 is the rate of convergence to the mean\n",
       "    sigma > 0 is the volatility of the noise\n",
       "\n",
       "    Notes\n",
       "    =====\n",
       "    This system has n = 10\n",
       "    "
      ],
      "text/plain": [
       "<IPython.core.display.Markdown object>"
      ]
     },
     "metadata": {},
     "output_type": "display_data"
    },
    {
     "data": {
      "application/vnd.jupyter.widget-view+json": {
       "model_id": "a97b7117c6d446c3b9a3a0ae20c9824a",
       "version_major": 2,
       "version_minor": 0
      },
      "text/plain": [
       "VBox(children=(HBox(children=(Button(description='Run', style=ButtonStyle()),)), VBox(children=(FloatSlider(va…"
      ]
     },
     "metadata": {},
     "output_type": "display_data"
    },
    {
     "data": {
      "application/vnd.jupyter.widget-view+json": {
       "model_id": "da7d1917a6b2488d919e72c5a68957db",
       "version_major": 2,
       "version_minor": 0
      },
      "text/plain": [
       "Output()"
      ]
     },
     "metadata": {},
     "output_type": "display_data"
    }
   ],
   "source": [
    "from bdtpy.sde import OrnsteinUhlenbeck\n",
    "# Example usage\n",
    "param_ranges = {\n",
    "    'theta': (0, 1, 0.01, 0.7),\n",
    "    'mu': (0, 1, 0.01, 1.0),\n",
    "    'sigma': (0, 1, 0.01, 0.3)\n",
    "}\n",
    "run_model(OrnsteinUhlenbeck, param_ranges)"
   ]
  },
  {
   "cell_type": "code",
   "execution_count": 5,
   "metadata": {},
   "outputs": [
    {
     "data": {
      "text/markdown": [
       "## `KloedenPlaten`\n",
       "\n",
       "\n",
       "    Ito Stochastic Differential Equation (4.46) from Kloeden and Platen (1999)\n",
       "\n",
       "        dy = -(a + yb^2)(1 - y^2)dt + b(1 - y^2)dW_t\n",
       "\n",
       "    where\n",
       "        y(t) is the dynamic variable\n",
       "        a and b are scalar constants\n",
       "\n",
       "    It has the explicit solution\n",
       "        \n",
       "        y = A/B\n",
       "    \n",
       "    where\n",
       "        A = (1 + y_0) exp(-2at + 2bW_t) + y_0 - 1\n",
       "        B = (1 + y_0) exp(-2at + 2bW_t) - y_0 + 1\n",
       "    \n",
       "    "
      ],
      "text/plain": [
       "<IPython.core.display.Markdown object>"
      ]
     },
     "metadata": {},
     "output_type": "display_data"
    },
    {
     "data": {
      "application/vnd.jupyter.widget-view+json": {
       "model_id": "0af5c1be94f5421b94a659ed143c27f2",
       "version_major": 2,
       "version_minor": 0
      },
      "text/plain": [
       "VBox(children=(HBox(children=(Button(description='Run', style=ButtonStyle()),)), VBox(children=(FloatSlider(va…"
      ]
     },
     "metadata": {},
     "output_type": "display_data"
    },
    {
     "data": {
      "application/vnd.jupyter.widget-view+json": {
       "model_id": "e7421336881b4809a89c596f5a13ff7a",
       "version_major": 2,
       "version_minor": 0
      },
      "text/plain": [
       "Output()"
      ]
     },
     "metadata": {},
     "output_type": "display_data"
    }
   ],
   "source": [
    "# now let's try the Ito SDE from Kloeden Platen 1999\n",
    "from bdtpy.sde import KloedenPlaten\n",
    "param_ranges = {\n",
    "    'a': (0, 2, 0.01, 1.0),\n",
    "    'b': (0, 1, 0.01, 0.9),\n",
    "    'y0': (-0.99, 0.99, 0.01, 0.1)\n",
    "}\n",
    "\n",
    "run_model(KloedenPlaten, param_ranges)"
   ]
  },
  {
   "cell_type": "code",
   "execution_count": 6,
   "metadata": {},
   "outputs": [
    {
     "data": {
      "text/markdown": [
       "## `GeometricBrownianMotion`\n",
       "\n",
       "\n",
       "    The Ito Stochastic Differential Equation is\n",
       "\n",
       "        dY = mu*Y*dt + sigma*Y*dW_t\n",
       "\n",
       "    where\n",
       "        Y(t) is the dynamic variable\n",
       "        mu is the drift parameter\n",
       "        sigma is the diffusion parameter\n",
       "    \n",
       "    The dynamic variable Y(t) is normally distributed with mean Y_0*exp(mu*t)\n",
       "    and variance Y^2_0*exp(2*mu*t)(exp(sigma^2*t) - 1)\n",
       "\n",
       "    This simulation has n = 100 independent processes.\n",
       "\n",
       "    "
      ],
      "text/plain": [
       "<IPython.core.display.Markdown object>"
      ]
     },
     "metadata": {},
     "output_type": "display_data"
    },
    {
     "data": {
      "application/vnd.jupyter.widget-view+json": {
       "model_id": "3f162b1bb46043508d341ed7099bb491",
       "version_major": 2,
       "version_minor": 0
      },
      "text/plain": [
       "VBox(children=(HBox(children=(Button(description='Run', style=ButtonStyle()),)), VBox(children=(FloatSlider(va…"
      ]
     },
     "metadata": {},
     "output_type": "display_data"
    },
    {
     "data": {
      "application/vnd.jupyter.widget-view+json": {
       "model_id": "b8b8bdf634334589a1d436a24f296e03",
       "version_major": 2,
       "version_minor": 0
      },
      "text/plain": [
       "Output()"
      ]
     },
     "metadata": {},
     "output_type": "display_data"
    }
   ],
   "source": [
    "from bdtpy.sde import GeometricBrownianMotion\n",
    "param_ranges = {\n",
    "    'mu': (0, 1, 0.01, 0.5),\n",
    "    'sigma': (0, 1, 0.01, 1.0),\n",
    "    'Y0': (0.1, 10, 0.1, 0.0)\n",
    "}\n",
    "\n",
    "run_model(GeometricBrownianMotion, param_ranges)"
   ]
  },
  {
   "cell_type": "code",
   "execution_count": null,
   "metadata": {},
   "outputs": [],
   "source": []
  }
 ],
 "metadata": {
  "kernelspec": {
   "display_name": "math",
   "language": "python",
   "name": "python3"
  },
  "language_info": {
   "codemirror_mode": {
    "name": "ipython",
    "version": 3
   },
   "file_extension": ".py",
   "mimetype": "text/x-python",
   "name": "python",
   "nbconvert_exporter": "python",
   "pygments_lexer": "ipython3",
   "version": "3.10.14"
  }
 },
 "nbformat": 4,
 "nbformat_minor": 2
}
